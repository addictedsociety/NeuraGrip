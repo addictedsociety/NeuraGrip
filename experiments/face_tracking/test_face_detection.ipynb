{
 "cells": [
  {
   "cell_type": "markdown",
   "metadata": {},
   "source": [
    "# **Facetracking**\n",
    "---"
   ]
  },
  {
   "cell_type": "markdown",
   "metadata": {},
   "source": [
    "### IMPORTING LIBRARIES\n"
   ]
  },
  {
   "cell_type": "code",
   "execution_count": 26,
   "metadata": {},
   "outputs": [],
   "source": [
    "import cv2              # OpenCV für Bildverarbeitung, Kamera-Zugriff, Face Detection usw.\n",
    "import numpy as np      # NumPy für numerische Operationen, z.B. Berechnung des Gesichts-Mittelpunktes\n",
    "import time             # Zeitfunktionen, z.B. zur Verzögerung oder Laufzeitmessung\n"
   ]
  },
  {
   "cell_type": "markdown",
   "metadata": {},
   "source": [
    "---"
   ]
  },
  {
   "cell_type": "markdown",
   "metadata": {},
   "source": [
    "### **Standard VideoCapturing**"
   ]
  },
  {
   "cell_type": "code",
   "execution_count": null,
   "metadata": {},
   "outputs": [],
   "source": [
    "import cv2\n",
    "\n",
    "video = cv2.VideoCapture(0) # Kamera-Stream öffnen\n",
    "video.set(3, 640)           # Property-Identifier 3: Breite des Kamera-Bildes\n",
    "\n",
    "while video.isOpened():\n",
    "    \n",
    "    # Bild von der Kamera lesen\n",
    "    ret, bild = video.read()\n",
    "    \n",
    "    if not ret: # Wenn kein Bild gelesen wurde, dann Schleife abbrechens\n",
    "        break\n",
    "    \n",
    "    \n",
    "    # Bild anzeigen\n",
    "    cv2.imshow('Gesichts-Erkennung', bild)\n",
    "    \n",
    "    # Warten auf Tastendruck\n",
    "    if cv2.waitKey(1) & 0xFF == ord('q'):\n",
    "        break\n",
    "    \n",
    "\n",
    "# -- Wichtige Schritte am Ende des Programms --\n",
    "# Kamera-Stream und Fenster schließen\n",
    "    \n",
    "video.release() # Kamera-Stream schließen\n",
    "cv2.destroyAllWindows() # Alle Fenster schließen"
   ]
  },
  {
   "cell_type": "markdown",
   "metadata": {},
   "source": [
    "---"
   ]
  },
  {
   "cell_type": "markdown",
   "metadata": {},
   "source": [
    "### **Gesichtserkennungs**"
   ]
  },
  {
   "cell_type": "code",
   "execution_count": 31,
   "metadata": {},
   "outputs": [],
   "source": [
    "import cv2\n",
    "\n",
    "video = cv2.VideoCapture(0) # Kamera-Stream öffnen\n",
    "video.set(3, 1280)  # Breite\n",
    "video.set(4, 720)  # Höhe\n",
    "\n",
    "prev_time = time.time()  # Startzeit definieren\n",
    "\n",
    "\n",
    "while video.isOpened():\n",
    "    \n",
    "    # Bild von der Kamera lesen\n",
    "    ret, bild = video.read()\n",
    "    \n",
    "    if not ret: # Wenn kein Bild gelesen wurde, dann Schleife abbrechens\n",
    "        break\n",
    "    \n",
    "    # -- Gesichtserkennung ----------------------------------------------------------------\n",
    "    # Gesichtserkennung mit dem Haar-Cascade-Classifier\n",
    "    #\n",
    "    # 1. Haar-Cascade-Classifier laden -> zugriff auf integrierte Haar-Cascade-Datei\n",
    "    face_cascade = cv2.CascadeClassifier(cv2.data.haarcascades + 'haarcascade_frontalface_default.xml')\n",
    "    \n",
    "    # 2. Gesichter im Bild erkennen -> Konvertierung in Graustufen-Bild notwendig (bessere Erkennung)\n",
    "    converted_grey_bild = cv2.cvtColor(bild, cv2.COLOR_BGR2GRAY)\n",
    "    \n",
    "    # 3. Gesichter erkennen (detectMultiScale) -> Rückgabe: Liste von Rechtecken (x, y, w, h)\n",
    "    # scaleFactor: 1.1 -> Skalierungsfaktor für die Bildgröße\n",
    "    # minNeighbors: 5 -> Mindestanzahl von benachbarten Rechtecken\n",
    "    # minSize: (30, 30) -> Mindestgröße des Rechtecks\n",
    "    \n",
    "    faces = face_cascade.detectMultiScale(converted_grey_bild, scaleFactor=1.1, minNeighbors=5, minSize=(30, 30))\n",
    "\n",
    "    for x , y, w, h in faces:\n",
    "        \n",
    "        # - Rechteck um das Gesicht zeichnen -\n",
    "        # cv2.rectangle(Bild, Startpunkt, Endpunkt, Farbe, Dicke)\n",
    "        cv2.rectangle(bild, (x, y), (x+w, y+h), (0, 255, 0), 2)\n",
    "        \n",
    "        # - Mittelpunkt des Gesichts berechnen -\n",
    "        x_mitte = x + w//2\n",
    "        y_mitte = y + h//2\n",
    "        cv2.circle(bild, (x_mitte, y_mitte), 5, (255, 0, 0), -1)\n",
    "        \n",
    "        # Koordinaten des Mittelpunktes anzeigen\n",
    "        text = f'Mittelpunkte Gesicht: ({x_mitte}, {y_mitte})'\t    \n",
    "        # cv2.putText(Bild, Text, Position, Schriftart, Skalierung, Farbe(BGR), Dicke)\n",
    "        cv2.putText(bild, text, (20,100), cv2.FONT_HERSHEY_SIMPLEX, 0.75, (0, 255, 255), 2)\n",
    "        \n",
    "        \n",
    "    \n",
    "    # FPS berechnen\n",
    "    current_time = time.time()\n",
    "    fps = 1.0 / (current_time - prev_time)\n",
    "    prev_time = current_time\n",
    "\n",
    "    # FPS ins Bild schreiben (oben links)\n",
    "    cv2.putText(bild, f'FPS: {fps:.2f}', (20, 50),\n",
    "                cv2.FONT_HERSHEY_SIMPLEX, 1, (0, 255, 255), 2)  \n",
    "        \n",
    "        \n",
    "    # Bild anzeigen\n",
    "    cv2.imshow('Gesichts-Erkennung', bild)\n",
    "    \n",
    "    # Warten auf Tastendruck\n",
    "    if cv2.waitKey(1) & 0xFF == ord('q'):\n",
    "        break\n",
    "    \n",
    "\n",
    "# -- Wichtige Schritte am Ende des Programms --\n",
    "# Kamera-Stream und Fenster schließen\n",
    "    \n",
    "video.release() # Kamera-Stream schließen\n",
    "cv2.destroyAllWindows() # Alle Fenster schließen"
   ]
  },
  {
   "cell_type": "code",
   "execution_count": null,
   "metadata": {},
   "outputs": [],
   "source": []
  }
 ],
 "metadata": {
  "kernelspec": {
   "display_name": "AddictedSocietyEnv",
   "language": "python",
   "name": "python3"
  },
  "language_info": {
   "codemirror_mode": {
    "name": "ipython",
    "version": 3
   },
   "file_extension": ".py",
   "mimetype": "text/x-python",
   "name": "python",
   "nbconvert_exporter": "python",
   "pygments_lexer": "ipython3",
   "version": "3.11.9"
  }
 },
 "nbformat": 4,
 "nbformat_minor": 2
}
